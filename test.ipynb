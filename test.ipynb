{
 "cells": [
  {
   "cell_type": "code",
   "execution_count": 1,
   "metadata": {},
   "outputs": [
    {
     "name": "stdout",
     "output_type": "stream",
     "text": [
      "The day of the week for 9/15/2022 is Thursday.\n"
     ]
    }
   ],
   "source": [
    "def compute_day_of_week(year, month, day):\n",
    "    if month < 3:\n",
    "        month += 12\n",
    "        year -= 1\n",
    "\n",
    "    century = year // 100\n",
    "    year_of_century = year % 100\n",
    "\n",
    "    # Zeller's Congruence formula\n",
    "    h = (day + ((13 * (month + 1)) // 5) + year_of_century + (year_of_century // 4) + (century // 4) - (2 * century)) % 7\n",
    "\n",
    "    # Mapping the result to the corresponding day of the week\n",
    "    days_of_week = [\"Saturday\", \"Sunday\", \"Monday\", \"Tuesday\", \"Wednesday\", \"Thursday\", \"Friday\"]\n",
    "    return days_of_week[h]\n",
    "\n",
    "# Example usage\n",
    "year = 2022\n",
    "month = 9\n",
    "day = 15\n",
    "day_of_week = compute_day_of_week(year, month, day)\n",
    "print(f\"The day of the week for {month}/{day}/{year} is {day_of_week}.\")\n"
   ]
  },
  {
   "cell_type": "code",
   "execution_count": 2,
   "metadata": {},
   "outputs": [
    {
     "data": {
      "text/plain": [
       "'Saturday'"
      ]
     },
     "execution_count": 2,
     "metadata": {},
     "output_type": "execute_result"
    }
   ],
   "source": [
    "compute_day_of_week(2024,2,17)"
   ]
  },
  {
   "cell_type": "markdown",
   "metadata": {},
   "source": [
    "Cambio en rama"
   ]
  },
  {
   "cell_type": "code",
   "execution_count": 3,
   "metadata": {},
   "outputs": [
    {
     "name": "stdout",
     "output_type": "stream",
     "text": [
      "Hola\n"
     ]
    }
   ],
   "source": [
    "print(\"Hola\")"
   ]
  },
  {
   "cell_type": "code",
   "execution_count": null,
   "metadata": {},
   "outputs": [],
   "source": []
  },
  {
   "cell_type": "markdown",
   "metadata": {},
   "source": [
    "Cambios"
   ]
  },
  {
   "cell_type": "markdown",
   "metadata": {},
   "source": [
    "Cambios"
   ]
  },
  {
   "cell_type": "markdown",
   "metadata": {},
   "source": []
  }
 ],
 "metadata": {
  "kernelspec": {
   "display_name": "Python 3",
   "language": "python",
   "name": "python3"
  },
  "language_info": {
   "codemirror_mode": {
    "name": "ipython",
    "version": 3
   },
   "file_extension": ".py",
   "mimetype": "text/x-python",
   "name": "python",
   "nbconvert_exporter": "python",
   "pygments_lexer": "ipython3",
   "version": "3.9.6"
  }
 },
 "nbformat": 4,
 "nbformat_minor": 2
}
